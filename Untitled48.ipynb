{
  "nbformat": 4,
  "nbformat_minor": 0,
  "metadata": {
    "colab": {
      "provenance": [],
      "authorship_tag": "ABX9TyM05j7Vyg4uaLZUIaGA8Ijr",
      "include_colab_link": true
    },
    "kernelspec": {
      "name": "python3",
      "display_name": "Python 3"
    },
    "language_info": {
      "name": "python"
    }
  },
  "cells": [
    {
      "cell_type": "markdown",
      "metadata": {
        "id": "view-in-github",
        "colab_type": "text"
      },
      "source": [
        "<a href=\"https://colab.research.google.com/github/quantum-mechanics405/detect_umar/blob/main/Untitled48.ipynb\" target=\"_parent\"><img src=\"https://colab.research.google.com/assets/colab-badge.svg\" alt=\"Open In Colab\"/></a>"
      ]
    },
    {
      "cell_type": "code",
      "execution_count": 2,
      "metadata": {
        "colab": {
          "base_uri": "https://localhost:8080/"
        },
        "id": "dxZOJ2rGIBWG",
        "outputId": "4b639ba9-8bdb-4fdd-a24f-adaee83048c2"
      },
      "outputs": [
        {
          "output_type": "stream",
          "name": "stdout",
          "text": [
            "Drive already mounted at /content/drive; to attempt to forcibly remount, call drive.mount(\"/content/drive\", force_remount=True).\n"
          ]
        }
      ],
      "source": [
        "from google.colab import drive\n",
        "drive.mount('/content/drive')"
      ]
    },
    {
      "cell_type": "markdown",
      "source": [
        "##Preprocessing the image for training\n",
        "\n"
      ],
      "metadata": {
        "id": "f2_hB8kGIYxI"
      }
    },
    {
      "cell_type": "markdown",
      "source": [],
      "metadata": {
        "id": "A2vz9TbdIYu_"
      }
    },
    {
      "cell_type": "code",
      "source": [
        "import os\n",
        "import random\n",
        "import numpy as np\n",
        "from PIL import Image\n",
        "import matplotlib.pyplot as plt\n",
        "from sklearn.model_selection import train_test_split\n",
        "\n",
        "# Step 1: Load and Preprocess Images\n",
        "def load_and_preprocess_images(folder_A, folder_B, target_size=(128, 128)):\n",
        "    images = []\n",
        "    labels = []\n",
        "\n",
        "    # Process images in class A\n",
        "    for filename in os.listdir(folder_A):\n",
        "        if filename.endswith((\".png\", \".jpg\", \".jpeg\")):\n",
        "            img_path = os.path.join(folder_A, filename)\n",
        "            img = Image.open(img_path).convert(\"RGB\")\n",
        "            img_array = preprocess_image(img, target_size)\n",
        "            images.append(img_array)\n",
        "            labels.append(0)  # Label 0 for class A\n",
        "\n",
        "    # Process images in class B\n",
        "    for filename in os.listdir(folder_B):\n",
        "        if filename.endswith((\".png\", \".jpg\", \".jpeg\")):\n",
        "            img_path = os.path.join(folder_B, filename)\n",
        "            img = Image.open(img_path).convert(\"RGB\")\n",
        "            img_array = preprocess_image(img, target_size)\n",
        "            images.append(img_array)\n",
        "            labels.append(1)  # Label 1 for class B\n",
        "\n",
        "    # Shuffle images and labels together\n",
        "    combined = list(zip(images, labels))\n",
        "    random.shuffle(combined)\n",
        "    images[:], labels[:] = zip(*combined)\n",
        "\n",
        "    # Remove the extra dimension (1) from the images array\n",
        "    return np.squeeze(np.array(images)), np.array(labels)\n",
        "\n",
        "# Preprocess image function\n",
        "def preprocess_image(image, target_size=(64, 64)):\n",
        "    # Convert NumPy array back to PIL Image if needed\n",
        "    if isinstance(image, np.ndarray):\n",
        "        image = Image.fromarray(image)\n",
        "\n",
        "    # Resize the image to target_size\n",
        "    img = image.resize(target_size)\n",
        "    img_array = np.array(img) / 255.0  # Normalize pixel values to [0, 1]\n",
        "    img_array = np.expand_dims(img_array, axis=0)  # Add batch dimension (1, 64, 64, 3)\n",
        "    return img_array\n",
        "\n",
        "# Step 2: Split Dataset\n",
        "def split_dataset(images, labels, val_size=0.05, test_size=0.1):\n",
        "    # First split off the test set\n",
        "    X_train_val, X_test, y_train_val, y_test = train_test_split(images, labels, test_size=test_size, random_state=42)\n",
        "    # Then split the remaining data into training and validation sets\n",
        "    val_split = val_size / (1 - test_size)\n",
        "    X_train, X_val, y_train, y_val = train_test_split(X_train_val, y_train_val, test_size=val_split, random_state=42)\n",
        "    return X_train, X_val, X_test, y_train, y_val, y_test\n",
        "\n",
        "# Path variables\n",
        "folder_A = '/content/drive/MyDrive/Data Set Colab/aug_umar_pic'  # Adjust with your path\n",
        "folder_B = '/content/drive/MyDrive/Data Set Colab/aug_not_umar'  # Adjust with your path\n",
        "\n",
        "# Load images directly from the specified folders\n",
        "images, labels = load_and_preprocess_images(folder_A, folder_B)\n",
        "\n",
        "# Split dataset\n",
        "X_train, X_val, X_test, y_train, y_val, y_test = split_dataset(images, labels)\n",
        "\n",
        "# Show first 10 images\n",
        "plt.figure(figsize=(10, 10))\n",
        "for i in range(10):\n",
        "    plt.subplot(2, 5, i + 1)\n",
        "    plt.imshow(X_train[i])  # No need to squeeze, extra dimension is removed\n",
        "    plt.title(\"Class: \" + (\"A\" if y_train[i] == 0 else \"B\"))\n",
        "    plt.axis('off')\n",
        "plt.show()\n"
      ],
      "metadata": {
        "id": "Vp2miuDLIMFT"
      },
      "execution_count": null,
      "outputs": []
    },
    {
      "cell_type": "markdown",
      "source": [
        "##Training the Model"
      ],
      "metadata": {
        "id": "eIF3Smt5I16G"
      }
    },
    {
      "cell_type": "code",
      "source": [
        "import tensorflow as tf\n",
        "from tensorflow.keras.models import Sequential\n",
        "from tensorflow.keras.layers import Conv2D, MaxPooling2D, Flatten, Dense, Dropout\n",
        "from tensorflow.keras.optimizers import Adam\n",
        "from tensorflow.keras.callbacks import EarlyStopping\n",
        "\n",
        "# Step 1: Define the CNN Model\n",
        "def create_cnn_model(input_shape):\n",
        "    model = Sequential([\n",
        "        Conv2D(32, (3, 3), activation='relu', input_shape=input_shape),\n",
        "        MaxPooling2D((2, 2)),\n",
        "\n",
        "        Conv2D(64, (3, 3), activation='relu'),\n",
        "        MaxPooling2D((2, 2)),\n",
        "\n",
        "        Conv2D(128, (3, 3), activation='relu'),\n",
        "        MaxPooling2D((2, 2)),\n",
        "\n",
        "        Flatten(),\n",
        "        Dense(128, activation='relu'),\n",
        "        Dropout(0.5),\n",
        "\n",
        "        Dense(64, activation='relu'),\n",
        "        Dense(32, activation='relu'),\n",
        "        Dense(1, activation='sigmoid')  # Output layer for binary classification\n",
        "    ])\n",
        "    return model\n",
        "\n",
        "# Step 2: Compile the Model\n",
        "input_shape = (128, 128, 3)  # Image shape after resizing\n",
        "model = create_cnn_model(input_shape)\n",
        "model.compile(optimizer=Adam(learning_rate=0.0009),\n",
        "              loss='binary_crossentropy',\n",
        "              metrics=['accuracy'])\n",
        "\n",
        "# Step 3: Train the Model\n",
        "early_stopping = EarlyStopping(monitor='val_loss', patience=5, restore_best_weights=True)\n",
        "\n",
        "# Training the model\n",
        "history = model.fit(\n",
        "    X_train, y_train,\n",
        "    validation_data=(X_val, y_val),\n",
        "    epochs=30,\n",
        "    batch_size=32,\n",
        "    callbacks=[early_stopping]\n",
        ")\n",
        "\n",
        "# Step 4: Evaluate on Test Set\n",
        "test_loss, test_accuracy = model.evaluate(X_test, y_test)\n",
        "print(f\"Test accuracy: {test_accuracy:.2f}\")\n",
        "\n",
        "# (Optional) Plot training and validation accuracy\n",
        "import matplotlib.pyplot as plt\n",
        "\n",
        "plt.figure(figsize=(10, 5))\n",
        "plt.plot(history.history['accuracy'], label='Training Accuracy')\n",
        "plt.plot(history.history['val_accuracy'], label='Validation Accuracy')\n",
        "plt.xlabel('Epochs')\n",
        "plt.ylabel('Accuracy')\n",
        "plt.legend()\n",
        "plt.show()\n"
      ],
      "metadata": {
        "colab": {
          "base_uri": "https://localhost:8080/",
          "height": 1000
        },
        "id": "hHF5YNrhI4Id",
        "outputId": "18b4671e-dda4-4a1f-9a2e-a0d51a192a67"
      },
      "execution_count": null,
      "outputs": [
        {
          "output_type": "stream",
          "name": "stderr",
          "text": [
            "/usr/local/lib/python3.10/dist-packages/keras/src/layers/convolutional/base_conv.py:107: UserWarning: Do not pass an `input_shape`/`input_dim` argument to a layer. When using Sequential models, prefer using an `Input(shape)` object as the first layer in the model instead.\n",
            "  super().__init__(activity_regularizer=activity_regularizer, **kwargs)\n"
          ]
        },
        {
          "output_type": "stream",
          "name": "stdout",
          "text": [
            "Epoch 1/30\n",
            "\u001b[1m77/77\u001b[0m \u001b[32m━━━━━━━━━━━━━━━━━━━━\u001b[0m\u001b[37m\u001b[0m \u001b[1m103s\u001b[0m 1s/step - accuracy: 0.6443 - loss: 0.6635 - val_accuracy: 0.7793 - val_loss: 0.5516\n",
            "Epoch 2/30\n",
            "\u001b[1m77/77\u001b[0m \u001b[32m━━━━━━━━━━━━━━━━━━━━\u001b[0m\u001b[37m\u001b[0m \u001b[1m93s\u001b[0m 1s/step - accuracy: 0.6710 - loss: 0.6339 - val_accuracy: 0.7793 - val_loss: 0.5119\n",
            "Epoch 3/30\n",
            "\u001b[1m77/77\u001b[0m \u001b[32m━━━━━━━━━━━━━━━━━━━━\u001b[0m\u001b[37m\u001b[0m \u001b[1m98s\u001b[0m 1s/step - accuracy: 0.6693 - loss: 0.5917 - val_accuracy: 0.7862 - val_loss: 0.4953\n",
            "Epoch 4/30\n",
            "\u001b[1m77/77\u001b[0m \u001b[32m━━━━━━━━━━━━━━━━━━━━\u001b[0m\u001b[37m\u001b[0m \u001b[1m123s\u001b[0m 1s/step - accuracy: 0.7012 - loss: 0.5490 - val_accuracy: 0.8000 - val_loss: 0.4464\n",
            "Epoch 5/30\n",
            "\u001b[1m77/77\u001b[0m \u001b[32m━━━━━━━━━━━━━━━━━━━━\u001b[0m\u001b[37m\u001b[0m \u001b[1m81s\u001b[0m 1s/step - accuracy: 0.7295 - loss: 0.4987 - val_accuracy: 0.8759 - val_loss: 0.3542\n",
            "Epoch 6/30\n",
            "\u001b[1m77/77\u001b[0m \u001b[32m━━━━━━━━━━━━━━━━━━━━\u001b[0m\u001b[37m\u001b[0m \u001b[1m77s\u001b[0m 1s/step - accuracy: 0.7922 - loss: 0.4450 - val_accuracy: 0.8000 - val_loss: 0.4306\n",
            "Epoch 7/30\n",
            "\u001b[1m77/77\u001b[0m \u001b[32m━━━━━━━━━━━━━━━━━━━━\u001b[0m\u001b[37m\u001b[0m \u001b[1m85s\u001b[0m 1s/step - accuracy: 0.8172 - loss: 0.4133 - val_accuracy: 0.8966 - val_loss: 0.2990\n",
            "Epoch 8/30\n",
            "\u001b[1m77/77\u001b[0m \u001b[32m━━━━━━━━━━━━━━━━━━━━\u001b[0m\u001b[37m\u001b[0m \u001b[1m78s\u001b[0m 993ms/step - accuracy: 0.8434 - loss: 0.3406 - val_accuracy: 0.8828 - val_loss: 0.3047\n",
            "Epoch 9/30\n",
            "\u001b[1m77/77\u001b[0m \u001b[32m━━━━━━━━━━━━━━━━━━━━\u001b[0m\u001b[37m\u001b[0m \u001b[1m83s\u001b[0m 1s/step - accuracy: 0.8600 - loss: 0.3211 - val_accuracy: 0.8552 - val_loss: 0.3379\n",
            "Epoch 10/30\n",
            "\u001b[1m77/77\u001b[0m \u001b[32m━━━━━━━━━━━━━━━━━━━━\u001b[0m\u001b[37m\u001b[0m \u001b[1m88s\u001b[0m 1s/step - accuracy: 0.8783 - loss: 0.2964 - val_accuracy: 0.8483 - val_loss: 0.3108\n",
            "Epoch 11/30\n",
            "\u001b[1m77/77\u001b[0m \u001b[32m━━━━━━━━━━━━━━━━━━━━\u001b[0m\u001b[37m\u001b[0m \u001b[1m84s\u001b[0m 1s/step - accuracy: 0.8866 - loss: 0.2670 - val_accuracy: 0.8897 - val_loss: 0.2879\n",
            "Epoch 12/30\n",
            "\u001b[1m77/77\u001b[0m \u001b[32m━━━━━━━━━━━━━━━━━━━━\u001b[0m\u001b[37m\u001b[0m \u001b[1m77s\u001b[0m 997ms/step - accuracy: 0.9052 - loss: 0.2405 - val_accuracy: 0.8897 - val_loss: 0.2577\n",
            "Epoch 13/30\n",
            "\u001b[1m77/77\u001b[0m \u001b[32m━━━━━━━━━━━━━━━━━━━━\u001b[0m\u001b[37m\u001b[0m \u001b[1m82s\u001b[0m 996ms/step - accuracy: 0.8975 - loss: 0.2281 - val_accuracy: 0.8759 - val_loss: 0.3037\n",
            "Epoch 14/30\n",
            "\u001b[1m77/77\u001b[0m \u001b[32m━━━━━━━━━━━━━━━━━━━━\u001b[0m\u001b[37m\u001b[0m \u001b[1m85s\u001b[0m 1s/step - accuracy: 0.9352 - loss: 0.1679 - val_accuracy: 0.8690 - val_loss: 0.3238\n",
            "Epoch 15/30\n",
            "\u001b[1m77/77\u001b[0m \u001b[32m━━━━━━━━━━━━━━━━━━━━\u001b[0m\u001b[37m\u001b[0m \u001b[1m80s\u001b[0m 1s/step - accuracy: 0.9273 - loss: 0.1784 - val_accuracy: 0.9241 - val_loss: 0.2118\n",
            "Epoch 16/30\n",
            "\u001b[1m77/77\u001b[0m \u001b[32m━━━━━━━━━━━━━━━━━━━━\u001b[0m\u001b[37m\u001b[0m \u001b[1m96s\u001b[0m 1s/step - accuracy: 0.9221 - loss: 0.1892 - val_accuracy: 0.8966 - val_loss: 0.2435\n",
            "Epoch 17/30\n",
            "\u001b[1m77/77\u001b[0m \u001b[32m━━━━━━━━━━━━━━━━━━━━\u001b[0m\u001b[37m\u001b[0m \u001b[1m78s\u001b[0m 1s/step - accuracy: 0.9346 - loss: 0.1531 - val_accuracy: 0.8621 - val_loss: 0.3277\n",
            "Epoch 18/30\n",
            "\u001b[1m77/77\u001b[0m \u001b[32m━━━━━━━━━━━━━━━━━━━━\u001b[0m\u001b[37m\u001b[0m \u001b[1m76s\u001b[0m 990ms/step - accuracy: 0.9500 - loss: 0.1189 - val_accuracy: 0.8759 - val_loss: 0.3284\n",
            "Epoch 19/30\n",
            "\u001b[1m77/77\u001b[0m \u001b[32m━━━━━━━━━━━━━━━━━━━━\u001b[0m\u001b[37m\u001b[0m \u001b[1m79s\u001b[0m 1s/step - accuracy: 0.9578 - loss: 0.1060 - val_accuracy: 0.8759 - val_loss: 0.2635\n",
            "Epoch 20/30\n",
            "\u001b[1m77/77\u001b[0m \u001b[32m━━━━━━━━━━━━━━━━━━━━\u001b[0m\u001b[37m\u001b[0m \u001b[1m80s\u001b[0m 992ms/step - accuracy: 0.9488 - loss: 0.1187 - val_accuracy: 0.8828 - val_loss: 0.2814\n",
            "\u001b[1m10/10\u001b[0m \u001b[32m━━━━━━━━━━━━━━━━━━━━\u001b[0m\u001b[37m\u001b[0m \u001b[1m2s\u001b[0m 208ms/step - accuracy: 0.8606 - loss: 0.3105\n",
            "Test accuracy: 0.89\n"
          ]
        },
        {
          "output_type": "display_data",
          "data": {
            "text/plain": [
              "<Figure size 1000x500 with 1 Axes>"
            ],
            "image/png": "[encoded data removed]"
          },
          "metadata": {}
        }
      ]
    },
    {
      "cell_type": "markdown",
      "source": [
        "##Confusion Matrix"
      ],
      "metadata": {
        "id": "5y-BvQ1-JdpE"
      }
    },
    {
      "cell_type": "code",
      "source": [
        "from sklearn.metrics import confusion_matrix, ConfusionMatrixDisplay\n",
        "\n",
        "# Step 1: Predict on the test set\n",
        "y_pred = (loaded_model.predict(X_test) > 0.5).astype(\"int32\")  # Convert probabilities to binary predictions\n",
        "\n",
        "# Step 2: Generate Confusion Matrix\n",
        "cm = confusion_matrix(y_test, y_pred)\n",
        "\n",
        "# Step 3: Plot the Confusion Matrix\n",
        "disp = ConfusionMatrixDisplay(confusion_matrix=cm, display_labels=[\"Class A\", \"Class B\"])\n",
        "disp.plot(cmap='Blues')\n",
        "plt.title(\"Confusion Matrix\")\n",
        "plt.show()"
      ],
      "metadata": {
        "id": "2jcEhy70Jfyi"
      },
      "execution_count": null,
      "outputs": []
    },
    {
      "cell_type": "code",
      "source": [
        "X_test.shape"
      ],
      "metadata": {
        "colab": {
          "base_uri": "https://localhost:8080/"
        },
        "id": "l21uA-i1JlAi",
        "outputId": "5d3afd60-6633-418a-f2db-4760c5d00a1d"
      },
      "execution_count": null,
      "outputs": [
        {
          "output_type": "execute_result",
          "data": {
            "text/plain": [
              "(290, 128, 128, 3)"
            ]
          },
          "metadata": {},
          "execution_count": 5
        }
      ]
    },
    {
      "cell_type": "markdown",
      "source": [
        "##Saving the Model"
      ],
      "metadata": {
        "id": "8qqn38AaJp-o"
      }
    },
    {
      "cell_type": "code",
      "source": [
        "# Step 1: Save the model\n",
        "model.save('trained_cnn_model_on_umar128.h5')"
      ],
      "metadata": {
        "colab": {
          "base_uri": "https://localhost:8080/"
        },
        "id": "yQ0mvcDoJsAW",
        "outputId": "96f9979f-0ae8-4b7a-f2b0-ae2cae1bf584"
      },
      "execution_count": null,
      "outputs": [
        {
          "output_type": "stream",
          "name": "stderr",
          "text": [
            "WARNING:absl:You are saving your model as an HDF5 file via `model.save()` or `keras.saving.save_model(model)`. This file format is considered legacy. We recommend using instead the native Keras format, e.g. `model.save('my_model.keras')` or `keras.saving.save_model(model, 'my_model.keras')`. \n"
          ]
        }
      ]
    },
    {
      "cell_type": "markdown",
      "source": [
        "##Loading the Model"
      ],
      "metadata": {
        "id": "zBnXD-RVJxoY"
      }
    },
    {
      "cell_type": "code",
      "source": [
        "from tensorflow.keras.models import load_model\n",
        "\n",
        "# Load the model\n",
        "loaded_model = load_model('/content/drive/MyDrive/Data Set Colab/trained_cnn_model_on_umar128.h5')\n",
        "\n",
        "# You can now use loaded_model for predictions\n",
        "# Example: loaded_model.predict(new_data)\n"
      ],
      "metadata": {
        "id": "V2gbqmkbJzYp",
        "colab": {
          "base_uri": "https://localhost:8080/"
        },
        "outputId": "6f06b465-f8db-4a75-956d-4b648b75702e"
      },
      "execution_count": 4,
      "outputs": [
        {
          "output_type": "stream",
          "name": "stderr",
          "text": [
            "WARNING:absl:Compiled the loaded model, but the compiled metrics have yet to be built. `model.compile_metrics` will be empty until you train or evaluate the model.\n"
          ]
        }
      ]
    },
    {
      "cell_type": "markdown",
      "source": [
        "##Classifying the Picture"
      ],
      "metadata": {
        "id": "Mzstg64AKA9P"
      }
    },
    {
      "cell_type": "code",
      "source": [
        "from PIL import Image\n",
        "import numpy as np\n",
        "import matplotlib.pyplot as plt\n",
        "\n",
        "def preprocess_image(image_path, target_size=(128, 128)):\n",
        "    # Load and resize the image to target_size\n",
        "    img = Image.open(image_path).convert(\"RGB\")\n",
        "    img = img.resize(target_size)\n",
        "\n",
        "    img_array = np.array(img) / 255.0  # Normalize pixel values to [0, 1]\n",
        "    img_array = np.expand_dims(img_array, axis=0)  # Add batch dimension (1, 64, 64, 3)\n",
        "    return img_array\n",
        "\n",
        "\n",
        "def predict_image_class(image_path):\n",
        "    # Preprocess the image\n",
        "    img_array = preprocess_image(image_path)\n",
        "\n",
        "    # Make prediction\n",
        "    prediction = loaded_model.predict(img_array)\n",
        "    predicted_class = (prediction > 0.5).astype(\"int32\")[0][0]  # Convert to binary class\n",
        "\n",
        "    return predicted_class\n",
        "\n",
        "def resize_with_aspect_ratio(image, target_size):\n",
        "    # Calculate the aspect ratio and resize image while maintaining it\n",
        "    img_ratio = image.width / image.height\n",
        "    target_ratio = target_size[0] / target_size[1]\n",
        "\n",
        "    if img_ratio > target_ratio:\n",
        "        # Width is the constraining dimension\n",
        "        new_width = target_size[0]\n",
        "        new_height = int(new_width / img_ratio)\n",
        "    else:\n",
        "        # Height is the constraining dimension\n",
        "        new_height = target_size[1]\n",
        "        new_width = int(new_height * img_ratio)\n",
        "\n",
        "    return image.resize((new_width, new_height), Image.LANCZOS)\n",
        "\n",
        "# Your existing functions here\n",
        "\n",
        "# Path to the image you want to predict\n",
        "image_path = '/content/drive/MyDrive/Data Set Colab/aug_not_umar/IMG-20221113-WA0000_face_1_0_1834.jpg'  # Replace with the actual image path\n",
        "\n",
        "# Predict the class of the image\n",
        "predicted_class = predict_image_class(image_path)\n",
        "\n",
        "# Display the image and the prediction\n",
        "img = Image.open(image_path)\n",
        "plt.imshow(img)\n",
        "plt.title(f\"Predicted Class: {'A' if predicted_class == 0 else 'B'}\")\n",
        "plt.axis('off')\n",
        "plt.show()\n"
      ],
      "metadata": {
        "id": "OglZh-IQKEv4"
      },
      "execution_count": null,
      "outputs": []
    },
    {
      "cell_type": "markdown",
      "source": [
        "##Detecting faces from given Image and show faces"
      ],
      "metadata": {
        "id": "1v_2rKuaKM1e"
      }
    },
    {
      "cell_type": "code",
      "source": [
        "!pip install mtcnn\n",
        "!pip uninstall -y lz4 joblib\n",
        "!pip install lz4 joblib"
      ],
      "metadata": {
        "id": "0A7m9klFKNlH"
      },
      "execution_count": null,
      "outputs": []
    },
    {
      "cell_type": "code",
      "source": [
        "import cv2\n",
        "from mtcnn import MTCNN\n",
        "from PIL import Image, ExifTags\n",
        "import numpy as np\n",
        "import gc\n",
        "\n",
        "# Initialize the MTCNN face detector\n",
        "detector = MTCNN()\n",
        "\n",
        "def correct_image_orientation(image):\n",
        "    try:\n",
        "        # Get the image's EXIF data\n",
        "        for orientation in ExifTags.TAGS.keys():\n",
        "            if ExifTags.TAGS[orientation] == 'Orientation':\n",
        "                break\n",
        "\n",
        "        exif = image._getexif()\n",
        "\n",
        "        if exif is not None and orientation in exif:\n",
        "            if exif[orientation] == 3:\n",
        "                image = image.rotate(180, expand=True)\n",
        "            elif exif[orientation] == 6:\n",
        "                image = image.rotate(270, expand=True)\n",
        "            elif exif[orientation] == 8:\n",
        "                image = image.rotate(90, expand=True)\n",
        "    except (AttributeError, KeyError, IndexError):\n",
        "        # If there's no EXIF data or no orientation tag, do nothing\n",
        "        pass\n",
        "\n",
        "    return image\n",
        "\n",
        "def detect_faces_from_image(image_path):\n",
        "    # Load and correct the orientation of the image\n",
        "    img = Image.open(image_path)\n",
        "    img = correct_image_orientation(img)\n",
        "\n",
        "    # Resize the image to make face detection faster while keeping the aspect ratio\n",
        "    img.thumbnail((640, 480))\n",
        "\n",
        "    # Convert the image to RGB format for MTCNN\n",
        "    # img_rgb = cv2.cvtColor(np.array(img), cv2.COLOR_RGB2BGR)\n",
        "    img_rgb =np.array(img)\n",
        "    # Detect faces in the image\n",
        "    faces = detector.detect_faces(img_rgb)\n",
        "\n",
        "    # Store detected face images in a list\n",
        "    face_images = []\n",
        "\n",
        "    # Extract faces if any are detected\n",
        "    for i, face in enumerate(faces):\n",
        "        # Get the bounding box for each face\n",
        "        x, y, width, height = face['box']\n",
        "\n",
        "        # Crop the face from the image\n",
        "        face_img = img_rgb[y:y + height, x:x + width]\n",
        "\n",
        "        # Convert the face to RGB for consistency\n",
        "        # face_img_rgb = cv2.cvtColor(face_img, cv2.COLOR_BGR2RGB)\n",
        "        face_img_rgb = ace_img\n",
        "\n",
        "        # Append face image to the list\n",
        "        face_images.append(face_img_rgb)\n",
        "\n",
        "        print(f'Isolated face {i + 1} from the image.')\n",
        "\n",
        "    # Clear variables and collect garbage to free memory\n",
        "    del img, img_rgb, faces\n",
        "    gc.collect()\n",
        "\n",
        "    return face_images\n",
        "\n",
        "# Usage\n",
        "image_path = '/content/drive/MyDrive/Data Set Colab/extract_all_pictures/all_picturs/IMG-20231028-WA0050.jpg'  # Replace with the actual path to the image\n",
        "faces = detect_faces_from_image(image_path)\n",
        "\n",
        "# Display the faces if you want\n",
        "import matplotlib.pyplot as plt\n",
        "\n",
        "for i, face in enumerate(faces):\n",
        "    plt.imshow(face)\n",
        "    plt.title(f\"Face {i + 1}\")\n",
        "    plt.axis('off')\n",
        "    plt.show()\n",
        "\n",
        "print(f\"{len(faces)} faces were isolated from the image.\")\n"
      ],
      "metadata": {
        "id": "wajUtwgIKQxF"
      },
      "execution_count": null,
      "outputs": []
    },
    {
      "cell_type": "markdown",
      "source": [
        "##Umar in the picture?"
      ],
      "metadata": {
        "id": "b71fcM_IKYnW"
      }
    },
    {
      "cell_type": "code",
      "source": [
        "from PIL import Image\n",
        "import numpy as np\n",
        "import matplotlib.pyplot as plt\n",
        "import cv2  # Ensure you have this imported for any necessary cv2 functions.\n",
        "\n",
        "def preprocess_image(image, target_size=(128, 128)):\n",
        "    # Convert NumPy array back to PIL Image if needed\n",
        "    if isinstance(image, np.ndarray):\n",
        "        image = Image.fromarray(image)\n",
        "\n",
        "    # Resize the image to target_size\n",
        "    img = image.resize(target_size)\n",
        "    img_array = np.array(img) / 255.0  # Normalize pixel values to [0, 1]\n",
        "    img_array = np.expand_dims(img_array, axis=0)  # Add batch dimension (1, 64, 64, 3)\n",
        "    return img_array\n",
        "\n",
        "def predict_image_class(image):\n",
        "    # Preprocess the image\n",
        "    img_array = preprocess_image(image)\n",
        "\n",
        "    # Make prediction\n",
        "    prediction = loaded_model.predict(img_array)\n",
        "    predicted_class = (prediction > 0.5).astype(\"int32\")[0][0]  # Convert to binary class\n",
        "\n",
        "    return predicted_class\n",
        "\n",
        "# Iterate through each image in the faces list and classify\n",
        "for i, face in enumerate(faces):\n",
        "    # Since `faces` contains NumPy arrays, we can directly use them in `predict_image_class`.\n",
        "    predicted_class = predict_image_class(face)\n",
        "\n",
        "    # Display the image and the prediction\n",
        "    plt.imshow(face)  # `face` is already in RGB format\n",
        "    plt.title(f\"Predicted Class: {'Umar is in the picture' if predicted_class == 0 else 'Umar is not in the picture'}\")\n",
        "    plt.axis('off')\n",
        "    plt.show()\n"
      ],
      "metadata": {
        "id": "0gUuYnMjKa_C"
      },
      "execution_count": null,
      "outputs": []
    },
    {
      "cell_type": "markdown",
      "source": [
        "#important"
      ],
      "metadata": {
        "id": "c5urfuGGKj60"
      }
    },
    {
      "cell_type": "code",
      "source": [
        "for i, face in enumerate(faces):\n",
        "  x, y, width, height = face['box']\n",
        "  face_img = img_rgb[y:y + height, x:x + width]\n",
        "  # face_img=cv2.cvtColor(face_img, cv2.COLOR_BGR2RGB)\n",
        "  # face_img=cv2.cvtColor(face_img, cv2.COLOR_BGR2RGB)\n",
        "  plt.imshow(face_img)\n",
        "  plt.axis('off')\n",
        "  plt.show()\n",
        "  predicted_class = predict_image_class(face_img)\n",
        "  print(predicted_class)\n",
        "\n",
        "# gc.collect()\n",
        "  # print(i+1)"
      ],
      "metadata": {
        "id": "nKNZnX6TKmfM"
      },
      "execution_count": null,
      "outputs": []
    },
    {
      "cell_type": "markdown",
      "source": [
        "#final Corrected"
      ],
      "metadata": {
        "id": "j6KaeIkaKumz"
      }
    },
    {
      "cell_type": "code",
      "source": [
        "import cv2\n",
        "from mtcnn import MTCNN\n",
        "from PIL import Image, ExifTags\n",
        "import numpy as np\n",
        "import matplotlib.pyplot as plt\n",
        "import gc\n",
        "\n",
        "# Initialize the MTCNN face detector\n",
        "detector = MTCNN()\n",
        "\n",
        "# Load your model here\n",
        "# loaded_model = ...  # Ensure you load your trained model\n",
        "\n",
        "def correct_image_orientation(image):\n",
        "    try:\n",
        "        # Get the image's EXIF data\n",
        "        for orientation in ExifTags.TAGS.keys():\n",
        "            if ExifTags.TAGS[orientation] == 'Orientation':\n",
        "                break\n",
        "\n",
        "        exif = image._getexif()\n",
        "\n",
        "        if exif is not None and orientation in exif:\n",
        "            if exif[orientation] == 3:\n",
        "                image = image.rotate(180, expand=True)\n",
        "            elif exif[orientation] == 6:\n",
        "                image = image.rotate(270, expand=True)\n",
        "            elif exif[orientation] == 8:\n",
        "                image = image.rotate(90, expand=True)\n",
        "    except (AttributeError, KeyError, IndexError):\n",
        "        pass\n",
        "\n",
        "    return image\n",
        "\n",
        "def detect_faces_from_image(image_path):\n",
        "    img = Image.open(image_path)\n",
        "    img = correct_image_orientation(img)\n",
        "    img.thumbnail((640, 480))  # Resize for faster detection\n",
        "    # img_rgb = cv2.cvtColor(np.array(img), cv2.COLOR_RGB2BGR)\n",
        "    img_rgb = np.array(img)\n",
        "    faces = detector.detect_faces(img_rgb)\n",
        "    return img_rgb, faces\n",
        "\n",
        "def preprocess_image(image, target_size=(64, 64)):\n",
        "    img = Image.fromarray(image) if isinstance(image, np.ndarray) else image\n",
        "    img = img.resize(target_size)\n",
        "    img_array = np.array(img) / 255.0\n",
        "    return np.expand_dims(img_array, axis=0)\n",
        "\n",
        "def predict_image_class(image):\n",
        "    img_array = preprocess_image(image)\n",
        "    prediction = loaded_model.predict(img_array)\n",
        "    return (prediction > 0.5).astype(\"int32\")[0][0]\n",
        "\n",
        "# Main code\n",
        "# image_path = '/content/drive/MyDrive/Data Set Colab/extract_all_pictures/all_picturs/IMG-20240310-WA0024.jpg'  # Replace with the actual path\n",
        "# image_path = '/content/drive/MyDrive/Data Set Colab/extract_all_pictures/all_picturs/IMG-20221113-WA0000.jpg'  # Replace with the actual path\n",
        "# image_path = '/content/drive/MyDrive/Data Set Colab/extract_all_pictures/all_picturs/IMG_20231104_210207.jpg'  # Replace with the actual path\n",
        "image_path = '/content/drive/MyDrive/Data Set Colab/extract_all_pictures/all_picturs/IMG-20231028-WA0064.jpg'  # Replace with the actual path\n",
        "image_path = '/content/drive/MyDrive/Data Set Colab/extract_all_pictures/all_picturs/IMG-20231028-WA0050.jpg'  # Replace with the actual path\n",
        "image_path = '/content/drive/MyDrive/Data Set Colab/extract_all_pictures/all_picturs/IMG-20231028-WA0064.jpg'  # Replace with the actual path\n",
        "image_path = '/content/drive/MyDrive/Data Set Colab/extract_all_pictures/all_picturs/IMG_20230701_191850.jpg'\n",
        "# image_path = '/content/drive/MyDrive/Data Set Colab/extract_all_pictures/all_picturs/IMG_20240411_152334.jpg'\n",
        "\n",
        "img_rgb, faces = detect_faces_from_image(image_path)\n",
        "\n",
        "# Draw rectangles around detected faces and classify them\n",
        "for face in faces:\n",
        "    x, y, width, height = face['box']\n",
        "    face_img = img_rgb[y:y + height, x:x + width]\n",
        "    # face_img=cv2.cvtColor(face_img, cv2.COLOR_BGR2RGB)\n",
        "    # plt.imshow(face_img)\n",
        "    # plt.axis('off')\n",
        "    # plt.show()\n",
        "    predicted_class = predict_image_class(face_img)\n",
        "    print(predicted_class)\n",
        "\n",
        "\n",
        "\n",
        "\n",
        "    # x, y, width, height = face['box']\n",
        "    # face_img = img_rgb[y:y + height, x:x + width]\n",
        "    # face_img=cv2.cvtColor(img_rgb, cv2.COLOR_BGR2RGB)\n",
        "    # predicted_class = predict_image_class(face_img)\n",
        "    # print(predicted_class)\n",
        "    # Draw rectangle and label if it's class A (0)\n",
        "    if predicted_class == 0:  # Class A\n",
        "        cv2.rectangle(img_rgb, (x, y), (x + width, y + height), (0, 255, 0), 2)  # Green rectangle\n",
        "        cv2.putText(img_rgb, 'Umar', (x, y - 10), cv2.FONT_HERSHEY_SIMPLEX, 0.5, (0, 255, 0), 2)\n",
        "\n",
        "# Convert back to RGB for displaying\n",
        "# img_rgb = cv2.cvtColor(img_rgb, cv2.COLOR_BGR2RGB)\n",
        "\n",
        "# Show the final image with detections\n",
        "plt.imshow(img_rgb)\n",
        "plt.axis('off')\n",
        "plt.show()\n",
        "\n",
        "gc.collect()\n"
      ],
      "metadata": {
        "id": "Vlp_hIBaKxE8"
      },
      "execution_count": null,
      "outputs": []
    },
    {
      "cell_type": "markdown",
      "source": [
        "##Just detect the face"
      ],
      "metadata": {
        "id": "-DXL4XJBK1v7"
      }
    },
    {
      "cell_type": "code",
      "source": [
        "import cv2\n",
        "from mtcnn import MTCNN\n",
        "from PIL import Image, ExifTags\n",
        "import numpy as np\n",
        "import matplotlib.pyplot as plt\n",
        "\n",
        "# Path to your image\n",
        "image_path = '/content/drive/MyDrive/Data Set Colab/extract_all_pictures/all_picturs/IMG-20231028-WA0050.jpg'  # Replace with your image path\n",
        "\n",
        "# Initialize the MTCNN face detector\n",
        "detector = MTCNN()\n",
        "\n",
        "def correct_image_orientation(image):\n",
        "    try:\n",
        "        # Get the image's EXIF data\n",
        "        for orientation in ExifTags.TAGS.keys():\n",
        "            if ExifTags.TAGS[orientation] == 'Orientation':\n",
        "                break\n",
        "\n",
        "        exif = image._getexif()\n",
        "        if exif is not None and orientation in exif:\n",
        "            if exif[orientation] == 3:\n",
        "                image = image.rotate(180, expand=True)\n",
        "            elif exif[orientation] == 6:\n",
        "                image = image.rotate(270, expand=True)\n",
        "            elif exif[orientation] == 8:\n",
        "                image = image.rotate(90, expand=True)\n",
        "    except (AttributeError, KeyError, IndexError):\n",
        "        pass\n",
        "    return image\n",
        "\n",
        "# Read and preprocess the image\n",
        "img = Image.open(image_path)\n",
        "img = correct_image_orientation(img)\n",
        "img.thumbnail((640, 480))  # Resize to fit display\n",
        "\n",
        "# Convert image to RGB for MTCNN\n",
        "img_rgb = np.array(img)\n",
        "\n",
        "# Detect faces\n",
        "faces = detector.detect_faces(img_rgb)\n",
        "\n",
        "# Draw rectangles around each detected face\n",
        "for face in faces:\n",
        "    x, y, width, height = face['box']\n",
        "    cv2.rectangle(img_rgb, (x, y), (x + width, y + height), (0, 255, 0), 2)  # Green rectangle\n",
        "\n",
        "# Display the image with labeled faces\n",
        "plt.figure(figsize=(10, 10))\n",
        "# plt.imshow(cv2.cvtColor(img_rgb, cv2.COLOR_RGB2BGR))\n",
        "plt.imshow(img_rgb)\n",
        "plt.axis('off')\n",
        "plt.show()\n"
      ],
      "metadata": {
        "id": "qBw9muALK3tV"
      },
      "execution_count": null,
      "outputs": []
    }
  ]
}